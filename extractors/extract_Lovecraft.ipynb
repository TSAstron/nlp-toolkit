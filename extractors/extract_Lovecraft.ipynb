{
 "cells": [
  {
   "cell_type": "code",
   "execution_count": 1,
   "id": "bc96543b",
   "metadata": {},
   "outputs": [],
   "source": [
    "import re\n",
    "import json\n",
    "import requests\n",
    "from bs4 import BeautifulSoup\n",
    "# path to your working directory\n",
    "PATH = \"\""
   ]
  },
  {
   "cell_type": "code",
   "execution_count": 2,
   "id": "31af52ad",
   "metadata": {},
   "outputs": [
    {
     "data": {
      "text/plain": [
       "True"
      ]
     },
     "execution_count": 2,
     "metadata": {},
     "output_type": "execute_result"
    }
   ],
   "source": [
    "response = requests.get(\"https://www.hplovecraft.com/writings/fiction/\", headers={'User-Agent': 'Kula-Szpiegula'})\n",
    "response.ok"
   ]
  },
  {
   "cell_type": "code",
   "execution_count": 3,
   "id": "2ef79452",
   "metadata": {},
   "outputs": [],
   "source": [
    "digest = BeautifulSoup(response.content, \"html.parser\")"
   ]
  },
  {
   "cell_type": "code",
   "execution_count": 4,
   "id": "ea51e8fa",
   "metadata": {},
   "outputs": [],
   "source": [
    "# The response is the table of contents, now we get all the separate stories\n",
    "text_links = []\n",
    "for tag in digest.find_all(\"a\"):\n",
    "    href = tag.get(\"href\")\n",
    "    if href.endswith(\".aspx\") and \"/\" not in href and href not in [\"chrono.aspx\", \"publish.aspx\"]:\n",
    "        text_links.append( \"https://www.hplovecraft.com/writings/texts/fiction/\"+href )"
   ]
  },
  {
   "cell_type": "markdown",
   "id": "cad26620",
   "metadata": {},
   "source": [
    "This will be the preliminary dictionary holding the title and contents of each story.<br>\n",
    "The extraction required inspection of the actual format, and replacement of almost all html tags,<br>\n",
    "with the exception of newlines, which were present both as \\<br\\> and \\r\\n.<br>\n",
    "We also print all the title and author data.<br>"
   ]
  },
  {
   "cell_type": "code",
   "execution_count": 5,
   "id": "11908796",
   "metadata": {},
   "outputs": [
    {
     "name": "stdout",
     "output_type": "stream",
     "text": [
      "   0; 'The Alchemist\\nBy H. P. Lovecraft\\n'\n",
      "   1; 'Ashes\\nBy C. M. Eddy, Jr.\\nwith H. P. Lovecraft\\n\\n'\n",
      "   2; 'At the Mountains of Madness\\nBy H. P. Lovecraft\\n'\n",
      "   3; 'Azathoth\\nBy H. P. Lovecraft\\n'\n",
      "   4; 'The Battle that Ended the Century\\n(MS. Found in a Time Machine)\\nBy R. H. Barlow\\nwith H. P. Lovecraft\\n\\n\\n'\n",
      "   5; 'The Beast in the Cave\\nBy H. P. Lovecraft\\n'\n",
      "   6; 'Beyond the Wall of Sleep\\nBy H. P. Lovecraft\\n'\n",
      "   7; 'The Book\\nBy H. P. Lovecraft\\n'\n",
      "   8; 'The Call of Cthulhu\\nBy H. P. Lovecraft\\n'\n",
      "   9; 'The Case of Charles Dexter Ward\\nBy H. P. Lovecraft\\n'\n",
      "  10; 'The Cats of Ulthar\\nBy H. P. Lovecraft\\n'\n",
      "  11; 'Celephaïs\\nBy H. P. Lovecraft\\n'\n",
      "  12; 'The Challenge from Beyond\\nBy C.L. Moore, A. Merritt, H.P. Lovecraft,\\nRobert E. Howard, and Frank Belknap Long\\n'\n",
      "  13; 'Collapsing Cosmoses\\nBy R. H. Barlow\\nand H. P. Lovecraft\\n\\n'\n",
      "  14; 'The Colour out of Space\\nBy H. P. Lovecraft\\n'\n",
      "  15; 'Cool Air\\nBy H. P. Lovecraft\\n'\n",
      "  16; 'The Crawling Chaos\\nBy H. P. Lovecraft\\nwith Winifred V. Jackson\\n\\n'\n",
      "  17; 'The Curse of Yig\\nBy H. P. Lovecraft\\nfor Zealia Bishop\\n\\n'\n",
      "  18; 'Dagon\\nBy H. P. Lovecraft\\n'\n",
      "  19; 'Deaf, Dumb, and Blind\\nBy C. M. Eddy, Jr.\\nand H. P. Lovecraft\\n\\n'\n",
      "  20; 'The Descendant\\nBy H. P. Lovecraft\\n'\n",
      "  21; 'The Diary of Alonzo Typer\\nBy H. P. Lovecraft\\nfor William Lumley\\n\\n'\n",
      "  22; 'The Disinterment\\nBy Duane W. Rimel\\nand H. P. Lovecraft\\n\\n'\n",
      "  23; 'The Doom That Came to Sarnath\\nBy H. P. Lovecraft\\n'\n",
      "  24; 'The Dream-Quest of Unknown Kadath\\nBy H. P. Lovecraft\\n'\n",
      "  25; 'The Dreams in the Witch House\\nBy H. P. Lovecraft\\n'\n",
      "  26; 'The Dunwich Horror\\nBy H. P. Lovecraft\\n'\n",
      "  27; 'The Electric Executioner\\nBy H. P. Lovecraft\\nwith Adolphe de Castro\\n\\n'\n",
      "  28; 'The Evil Clergyman\\nBy H. P. Lovecraft\\n'\n",
      "  29; 'Ex Oblivione\\nBy H. P. Lovecraft\\n'\n",
      "  30; 'Facts concerning the Late\\nArthur Jermyn and His Family\\nBy H. P. Lovecraft\\n'\n",
      "  31; 'The Festival\\nBy H. P. Lovecraft\\n'\n",
      "  32; 'From Beyond\\nBy H. P. Lovecraft\\n'\n",
      "  33; 'The Ghost-Eater\\nBy C. M. Eddy, Jr.\\nwith H. P. Lovecraft\\n\\n'\n",
      "  34; 'The Green Meadow\\nBy H. P. Lovecraft\\nand Winifred V. Jackson\\n\\n'\n",
      "  35; 'The Haunter of the Dark\\nBy H. P. Lovecraft\\n'\n",
      "  36; 'He\\nBy H. P. Lovecraft\\n'\n",
      "  37; 'Herbert West—Reanimator\\nBy H. P. Lovecraft\\n'\n",
      "  38; 'History of the Necronomicon\\nBy H. P. Lovecraft\\n'\n",
      "  39; 'The Hoard of the Wizard-Beast\\nBy R. H. Barlow\\nand H. P. Lovecraft\\n\\n'\n",
      "  40; 'The Horror at Martin’s Beach\\nBy H. P. Lovecraft\\nand Sonia H. Greene\\n\\n'\n",
      "  41; 'The Horror at Red Hook\\nBy H. P. Lovecraft\\n'\n",
      "  42; 'The Horror in the Burying-Ground\\nBy H. P. Lovecraft\\nfor Hazel Heald\\n\\n'\n",
      "  43; 'The Horror in the Museum\\nBy H. P. Lovecraft\\nfor Hazel Heald\\n\\n'\n",
      "  44; 'The Hound\\nBy H. P. Lovecraft\\n'\n",
      "  45; 'Hypnos\\nBy H. P. Lovecraft\\n'\n",
      "  46; 'Ibid\\nBy H. P. Lovecraft\\n'\n",
      "  47; 'In the Vault\\nBy H. P. Lovecraft\\n'\n",
      "  48; 'In the Walls of Eryx\\nBy H. P. Lovecraft\\nwith Kenneth Sterling\\n\\n'\n",
      "  49; 'The Last Test\\nBy H. P. Lovecraft\\nwith Adolphe de Castro\\n\\n'\n",
      "  50; 'The Little Glass Bottle\\nBy H. P. Lovecraft\\n'\n",
      "  51; 'The Loved Dead\\nBy C. M. Eddy, Jr.\\nand H. P. Lovecraft\\n\\n'\n",
      "  52; 'The Lurking Fear\\nBy H. P. Lovecraft\\n'\n",
      "  53; 'The Man of Stone\\nBy Hazel Heald\\nwith H. P. Lovecraft\\n\\n'\n",
      "  54; 'Medusa’s Coil\\nBy H. P. Lovecraft\\nfor Zealia Bishop\\n\\n'\n",
      "  55; 'Memory\\nBy H. P. Lovecraft\\n'\n",
      "  56; 'The Moon-Bog\\nBy H. P. Lovecraft\\n'\n",
      "  57; 'The Mound\\nBy H. P. Lovecraft\\nfor Zealia Bishop\\n\\n'\n",
      "  58; 'The Music of Erich Zann\\nBy H. P. Lovecraft\\n'\n",
      "  59; 'The Mysterious Ship\\nBy H. P. Lovecraft\\n\\n'\n",
      "  60; 'The Mystery of the Grave-Yard\\nor “A Dead Man’s Revenge”\\nA Detective Story,\\nby H. P. Lovecraft\\n'\n",
      "  61; 'The Nameless City\\nBy H. P. Lovecraft\\n'\n",
      "  62; 'The Night Ocean\\nBy R. H. Barlow\\nwith H. P. Lovecraft\\n\\n'\n",
      "  63; 'Nyarlathotep\\nBy H. P. Lovecraft\\n'\n",
      "  64; 'Old Bugs\\nBy H. P. Lovecraft\\n'\n",
      "  65; 'The Other Gods\\nBy H. P. Lovecraft\\n'\n",
      "  66; 'Out of the Aeons\\nBy H. P. Lovecraft\\nfor Hazel Heald\\n\\n'\n",
      "  67; 'The Outsider\\nBy H. P. Lovecraft\\n'\n",
      "  68; 'Pickman’s Model\\nBy H. P. Lovecraft\\n'\n",
      "  69; 'The Picture in the House\\nBy H. P. Lovecraft\\n'\n",
      "  70; 'Poetry and the Gods\\nBy H. P. Lovecraft\\nand Anna Helen Crofts\\n\\n'\n",
      "  71; 'Polaris\\nBy H. P. Lovecraft\\n'\n",
      "  72; 'The Quest of Iranon\\nBy H. P. Lovecraft\\n'\n",
      "  73; 'The Rats in the Walls\\nBy H. P. Lovecraft\\n'\n",
      "  74; 'A Reminiscence of Dr. Samuel Johnson\\nBy H. P. Lovecraft\\n'\n",
      "  75; 'The Secret Cave\\nor John Lees adventure\\nBy H. P. Lovecraft\\n'\n",
      "  76; 'The Shadow out of Time\\nBy H. P. Lovecraft\\n'\n",
      "  77; 'The Shadow over Innsmouth\\nBy H. P. Lovecraft\\n'\n",
      "  78; 'Discarded Draft of\\n“The Shadow over Innsmouth”\\nBy H. P. Lovecraft\\n'\n",
      "  79; 'The Shunned House\\nBy H. P. Lovecraft\\n'\n",
      "  80; 'The Silver Key\\nBy H. P. Lovecraft\\n'\n",
      "  81; 'The Slaying of the Monster\\nBy R. H. Barlow\\nand H. P. Lovecraft\\n\\n'\n",
      "  82; 'The Statement of Randolph Carter\\nBy H. P. Lovecraft\\n'\n",
      "  83; 'The Strange High House in the Mist\\nBy H. P. Lovecraft\\n'\n",
      "  84; 'The Street\\nBy H. P. Lovecraft\\n'\n",
      "  85; 'Sweet Ermengarde\\nOr, the Heart of a Country Girl\\nBy Percy Simple [H. P. Lovecraft]\\n'\n",
      "  86; 'The Temple\\nBy H. P. Lovecraft\\n'\n",
      "  87; 'The Terrible Old Man\\nBy H. P. Lovecraft\\n'\n",
      "  88; 'H.P. Lovecraft’s\\n“The Thing in the Moonlight”\\n'\n",
      "  89; 'The Thing on the Doorstep\\nBy H. P. Lovecraft\\n'\n",
      "  90; 'Through the Gates of the Silver Key\\nBy H. P. Lovecraft\\nand E. Hoffmann Price\\n\\n'\n",
      "  91; '“Till A’ the Seas”\\nBy R. H. Barlow\\nand H. P. Lovecraft\\n\\n'\n",
      "  92; 'The Tomb\\nBy H. P. Lovecraft\\n'\n",
      "  93; 'The Transition of Juan Romero\\nBy H. P. Lovecraft\\n'\n",
      "  94; 'The Trap\\nBy H. P. Lovecraft\\nwith Henry S. Whitehead\\n\\n'\n",
      "  95; 'The Tree\\nBy H. P. Lovecraft\\n'\n",
      "  96; 'The Tree on the Hill\\nBy Duane W. Rimel\\nand H. P. Lovecraft\\n\\n'\n",
      "  97; 'Two Black Bottles\\nBy Wilfred Blanch Talman\\nwith H. P. Lovecraft\\n\\n'\n",
      "  98; 'Under the Pyramids\\nBy H. P. Lovecraft\\nfor Harry Houdini\\n\\n'\n",
      "  99; 'The Unnamable\\nBy H. P. Lovecraft\\n'\n",
      " 100; 'The Very Old Folk\\nBy H. P. Lovecraft\\n'\n",
      " 101; 'What the Moon Brings\\nBy H. P. Lovecraft\\n'\n",
      " 102; 'The Whisperer in Darkness\\nBy H. P. Lovecraft\\n'\n",
      " 103; 'The White Ship\\nBy H. P. Lovecraft\\n'\n",
      " 104; 'Winged Death\\nBy H. P. Lovecraft\\nwith Hazel Heald\\n\\n'\n"
     ]
    }
   ],
   "source": [
    "lovdict = []\n",
    "for i, link in enumerate(text_links[:]):\n",
    "    response = requests.get(link, headers={'User-Agent': 'Kula-Szpiegula'})\n",
    "    if response.ok:\n",
    "        digest = BeautifulSoup(response.content, \"html.parser\")\n",
    "        title = re.sub(\"<[^>]*>\",\"\", digest.find_all(\"font\",attrs={\"size\":\"+2\"})[0].decode().replace(\"<br>\",\"\\n\").replace(\"<br/>\",\"\\n\").replace(\"</br>\",\"\\n\") )\n",
    "        print(f\"{i:4d};\", repr(title) )\n",
    "        x = digest.find_all(\"div\", attrs={\"align\":\"justify\"})\n",
    "        y1 = x[1] if len(x)==2 else x[0]\n",
    "        y2 = y1.decode().replace('\\r\\n',' ').replace('<br>','\\n').replace('<br/>','\\n').replace('</br>','\\n')\n",
    "        y2 = re.sub(\"<[^>]*>\",\"\",y2)\n",
    "        lovdict.append( {\"title\":title, \"content\":y2.strip()} )\n",
    "    else:\n",
    "        print(\"❌ Request error\")"
   ]
  },
  {
   "cell_type": "code",
   "execution_count": 6,
   "id": "f799d0bf",
   "metadata": {},
   "outputs": [],
   "source": [
    "# save the stories in the original formatting\n",
    "with open(PATH+\"Lovecraft_stories.json\", \"w\") as file:\n",
    "    json.dump(lovdict, file, indent=1)"
   ]
  },
  {
   "cell_type": "markdown",
   "id": "265fe509",
   "metadata": {},
   "source": [
    "This is the second, almost final, version of the dictionary, where the title is separated from the authors.<br>\n",
    "Most stories have [title] by [author(s)] at the beginning, but there is one exception.<br>\n",
    "For now we separate those fields and strip away spaces and newlines."
   ]
  },
  {
   "cell_type": "code",
   "execution_count": 7,
   "id": "a5db0db8",
   "metadata": {},
   "outputs": [
    {
     "name": "stdout",
     "output_type": "stream",
     "text": [
      "✅   0 ['The Alchemist', 'By H. P. Lovecraft']\n",
      "✅   1 ['Ashes', 'By C. M. Eddy, Jr.with H. P. Lovecraft']\n",
      "✅   2 ['At the Mountains of Madness', 'By H. P. Lovecraft']\n",
      "✅   3 ['Azathoth', 'By H. P. Lovecraft']\n",
      "✅   4 ['The Battle that Ended the Century (MS. Found in a Time Machine)', 'By R. H. Barlowwith H. P. Lovecraft']\n",
      "✅   5 ['The Beast in the Cave', 'By H. P. Lovecraft']\n",
      "✅   6 ['Beyond the Wall of Sleep', 'By H. P. Lovecraft']\n",
      "✅   7 ['The Book', 'By H. P. Lovecraft']\n",
      "✅   8 ['The Call of Cthulhu', 'By H. P. Lovecraft']\n",
      "✅   9 ['The Case of Charles Dexter Ward', 'By H. P. Lovecraft']\n",
      "✅  10 ['The Cats of Ulthar', 'By H. P. Lovecraft']\n",
      "✅  11 ['Celephaïs', 'By H. P. Lovecraft']\n",
      "✅  12 ['The Challenge from Beyond', 'By C.L. Moore, A. Merritt, H.P. Lovecraft,Robert E. Howard, and Frank Belknap Long']\n",
      "✅  13 ['Collapsing Cosmoses', 'By R. H. Barlowand H. P. Lovecraft']\n",
      "✅  14 ['The Colour out of Space', 'By H. P. Lovecraft']\n",
      "✅  15 ['Cool Air', 'By H. P. Lovecraft']\n",
      "✅  16 ['The Crawling Chaos', 'By H. P. Lovecraftwith Winifred V. Jackson']\n",
      "✅  17 ['The Curse of Yig', 'By H. P. Lovecraftfor Zealia Bishop']\n",
      "✅  18 ['Dagon', 'By H. P. Lovecraft']\n",
      "✅  19 ['Deaf, Dumb, and Blind', 'By C. M. Eddy, Jr.and H. P. Lovecraft']\n",
      "✅  20 ['The Descendant', 'By H. P. Lovecraft']\n",
      "✅  21 ['The Diary of Alonzo Typer', 'By H. P. Lovecraftfor William Lumley']\n",
      "✅  22 ['The Disinterment', 'By Duane W. Rimeland H. P. Lovecraft']\n",
      "✅  23 ['The Doom That Came to Sarnath', 'By H. P. Lovecraft']\n",
      "✅  24 ['The Dream-Quest of Unknown Kadath', 'By H. P. Lovecraft']\n",
      "✅  25 ['The Dreams in the Witch House', 'By H. P. Lovecraft']\n",
      "✅  26 ['The Dunwich Horror', 'By H. P. Lovecraft']\n",
      "✅  27 ['The Electric Executioner', 'By H. P. Lovecraftwith Adolphe de Castro']\n",
      "✅  28 ['The Evil Clergyman', 'By H. P. Lovecraft']\n",
      "✅  29 ['Ex Oblivione', 'By H. P. Lovecraft']\n",
      "✅  30 ['Facts concerning the Late Arthur Jermyn and His Family', 'By H. P. Lovecraft']\n",
      "✅  31 ['The Festival', 'By H. P. Lovecraft']\n",
      "✅  32 ['From Beyond', 'By H. P. Lovecraft']\n",
      "✅  33 ['The Ghost-Eater', 'By C. M. Eddy, Jr.with H. P. Lovecraft']\n",
      "✅  34 ['The Green Meadow', 'By H. P. Lovecraftand Winifred V. Jackson']\n",
      "✅  35 ['The Haunter of the Dark', 'By H. P. Lovecraft']\n",
      "✅  36 ['He', 'By H. P. Lovecraft']\n",
      "✅  37 ['Herbert West—Reanimator', 'By H. P. Lovecraft']\n",
      "✅  38 ['History of the Necronomicon', 'By H. P. Lovecraft']\n",
      "✅  39 ['The Hoard of the Wizard-Beast', 'By R. H. Barlowand H. P. Lovecraft']\n",
      "✅  40 ['The Horror at Martin’s Beach', 'By H. P. Lovecraftand Sonia H. Greene']\n",
      "✅  41 ['The Horror at Red Hook', 'By H. P. Lovecraft']\n",
      "✅  42 ['The Horror in the Burying-Ground', 'By H. P. Lovecraftfor Hazel Heald']\n",
      "✅  43 ['The Horror in the Museum', 'By H. P. Lovecraftfor Hazel Heald']\n",
      "✅  44 ['The Hound', 'By H. P. Lovecraft']\n",
      "✅  45 ['Hypnos', 'By H. P. Lovecraft']\n",
      "✅  46 ['Ibid', 'By H. P. Lovecraft']\n",
      "✅  47 ['In the Vault', 'By H. P. Lovecraft']\n",
      "✅  48 ['In the Walls of Eryx', 'By H. P. Lovecraftwith Kenneth Sterling']\n",
      "✅  49 ['The Last Test', 'By H. P. Lovecraftwith Adolphe de Castro']\n",
      "✅  50 ['The Little Glass Bottle', 'By H. P. Lovecraft']\n",
      "✅  51 ['The Loved Dead', 'By C. M. Eddy, Jr.and H. P. Lovecraft']\n",
      "✅  52 ['The Lurking Fear', 'By H. P. Lovecraft']\n",
      "✅  53 ['The Man of Stone', 'By Hazel Healdwith H. P. Lovecraft']\n",
      "✅  54 ['Medusa’s Coil', 'By H. P. Lovecraftfor Zealia Bishop']\n",
      "✅  55 ['Memory', 'By H. P. Lovecraft']\n",
      "✅  56 ['The Moon-Bog', 'By H. P. Lovecraft']\n",
      "✅  57 ['The Mound', 'By H. P. Lovecraftfor Zealia Bishop']\n",
      "✅  58 ['The Music of Erich Zann', 'By H. P. Lovecraft']\n",
      "✅  59 ['The Mysterious Ship', 'By H. P. Lovecraft']\n",
      "✅  60 ['The Mystery of the Grave-Yard or “A Dead Man’s Revenge” A Detective Story,', 'by H. P. Lovecraft']\n",
      "✅  61 ['The Nameless City', 'By H. P. Lovecraft']\n",
      "✅  62 ['The Night Ocean', 'By R. H. Barlowwith H. P. Lovecraft']\n",
      "✅  63 ['Nyarlathotep', 'By H. P. Lovecraft']\n",
      "✅  64 ['Old Bugs', 'By H. P. Lovecraft']\n",
      "✅  65 ['The Other Gods', 'By H. P. Lovecraft']\n",
      "✅  66 ['Out of the Aeons', 'By H. P. Lovecraftfor Hazel Heald']\n",
      "✅  67 ['The Outsider', 'By H. P. Lovecraft']\n",
      "✅  68 ['Pickman’s Model', 'By H. P. Lovecraft']\n",
      "✅  69 ['The Picture in the House', 'By H. P. Lovecraft']\n",
      "✅  70 ['Poetry and the Gods', 'By H. P. Lovecraftand Anna Helen Crofts']\n",
      "✅  71 ['Polaris', 'By H. P. Lovecraft']\n",
      "✅  72 ['The Quest of Iranon', 'By H. P. Lovecraft']\n",
      "✅  73 ['The Rats in the Walls', 'By H. P. Lovecraft']\n",
      "✅  74 ['A Reminiscence of Dr. Samuel Johnson', 'By H. P. Lovecraft']\n",
      "✅  75 ['The Secret Cave or John Lees adventure', 'By H. P. Lovecraft']\n",
      "✅  76 ['The Shadow out of Time', 'By H. P. Lovecraft']\n",
      "✅  77 ['The Shadow over Innsmouth', 'By H. P. Lovecraft']\n",
      "✅  78 ['Discarded Draft of “The Shadow over Innsmouth”', 'By H. P. Lovecraft']\n",
      "✅  79 ['The Shunned House', 'By H. P. Lovecraft']\n",
      "✅  80 ['The Silver Key', 'By H. P. Lovecraft']\n",
      "✅  81 ['The Slaying of the Monster', 'By R. H. Barlowand H. P. Lovecraft']\n",
      "✅  82 ['The Statement of Randolph Carter', 'By H. P. Lovecraft']\n",
      "✅  83 ['The Strange High House in the Mist', 'By H. P. Lovecraft']\n",
      "✅  84 ['The Street', 'By H. P. Lovecraft']\n",
      "✅  85 ['Sweet Ermengarde Or, the Heart of a Country Girl', 'By Percy Simple [H. P. Lovecraft]']\n",
      "✅  86 ['The Temple', 'By H. P. Lovecraft']\n",
      "✅  87 ['The Terrible Old Man', 'By H. P. Lovecraft']\n",
      "❌  88 ['H.P. Lovecraft’s “The Thing in the Moonlight”', '']\n",
      "✅  89 ['The Thing on the Doorstep', 'By H. P. Lovecraft']\n",
      "✅  90 ['Through the Gates of the Silver Key', 'By H. P. Lovecraftand E. Hoffmann Price']\n",
      "✅  91 ['“Till A’ the Seas”', 'By R. H. Barlowand H. P. Lovecraft']\n",
      "✅  92 ['The Tomb', 'By H. P. Lovecraft']\n",
      "✅  93 ['The Transition of Juan Romero', 'By H. P. Lovecraft']\n",
      "✅  94 ['The Trap', 'By H. P. Lovecraftwith Henry S. Whitehead']\n",
      "✅  95 ['The Tree', 'By H. P. Lovecraft']\n",
      "✅  96 ['The Tree on the Hill', 'By Duane W. Rimeland H. P. Lovecraft']\n",
      "✅  97 ['Two Black Bottles', 'By Wilfred Blanch Talmanwith H. P. Lovecraft']\n",
      "✅  98 ['Under the Pyramids', 'By H. P. Lovecraftfor Harry Houdini']\n",
      "✅  99 ['The Unnamable', 'By H. P. Lovecraft']\n",
      "✅ 100 ['The Very Old Folk', 'By H. P. Lovecraft']\n",
      "✅ 101 ['What the Moon Brings', 'By H. P. Lovecraft']\n",
      "✅ 102 ['The Whisperer in Darkness', 'By H. P. Lovecraft']\n",
      "✅ 103 ['The White Ship', 'By H. P. Lovecraft']\n",
      "✅ 104 ['Winged Death', 'By H. P. Lovecraftwith Hazel Heald']\n"
     ]
    }
   ],
   "source": [
    "lovdict2 = []\n",
    "for k, story in enumerate(lovdict):\n",
    "    lovdict2.append({})\n",
    "    pre = '✅' if 'by' in story['title'].lower() else '❌'\n",
    "    spl = re.split('(:?[Bb]y)', story['title'])\n",
    "    clean = spl[0].replace('\\n',' ').strip()\n",
    "    auths = ' '.join( [q.replace('\\n','').strip() for q in spl[1:]] ) \n",
    "    print(pre, f\"{k:3d}\", [clean, auths] )\n",
    "    lovdict2[-1]['title'] = clean\n",
    "    lovdict2[-1]['authors'] = auths\n",
    "    sub1 = re.sub(' *(\\n)+ *', '\\n', story['content']) # repeated? newlines with possible spaces\n",
    "    sub2 = re.sub( '  +', ' ', sub1 ) # repeated spaces\n",
    "    lovdict2[-1]['content'] = sub2"
   ]
  },
  {
   "cell_type": "markdown",
   "id": "ebb8bb94",
   "metadata": {},
   "source": [
    "And deal with the only exception by hand."
   ]
  },
  {
   "cell_type": "code",
   "execution_count": 8,
   "id": "1fee9a8f",
   "metadata": {},
   "outputs": [
    {
     "data": {
      "text/plain": [
       "{'title': 'The Thing in the Moonlight',\n",
       " 'authors': 'By H. P. Lovecraft',\n",
       " 'content': '“The Thing in the Moonlight” is based on a letter that Lovecraft wrote to Donald Wandrei on 24 November 1927. The story surrounding Lovecraft’s description of his dream was written by J. Chapman Miske and published in the January 1941 issue of Bizarre.\\nLetter to Donald Wandrei\\n“The Thing in the Moonlight”\\nMy dreams occasionally approach’d the phantastical in character, tho’ falling somewhat short of coherence. One scene is especially stamp’d upon my recollection—that of a dank, fœtid, reed-choak’d marsh under a grey autumn sky, with a rugged cliff of lichen-crusted stone rising to the north. Impell’d by some obscure quest, I ascended a rift or cleft in this beetling precipice, noting as I did so the black mouths of many fearsome burrows extending from both walls into the depths of the stony plateau.\\nMorgan is not a literary man; in fact he cannot speak English with any degree of coherency. That is what makes me wonder about the words he wrote, though others have laughed.\\nHe was alone the evening it happened. Suddenly an unconquerable urge to write came over him, and taking pen in hand he wrote the following:\\nMy name is Howard Phillips. I live at 66 College Street, in Providence, Rhode Island. On November 24, 1927—for I know not even what the year may be now—, I fell asleep and dreamed, since when I have been unable to awaken.\\nMy dream began in a dank, reed-choked marsh that lay under a gray autumn sky, with a rugged cliff of lichen-crusted stone rising to the north. Impelled by some obscure quest, I ascended a rift or cleft in this beetling precipice, noting as I did so the black mouths of many fearsome burrows extending from both walls into the depths of the stony plateau.\\nAt several points the passage was roof’d over by the choaking of the upper parts of the narrow fissure; these places being exceedingly dark, &amp; forbidding the perception of such burrows as may have existed there. In one such dark space I felt conscious of a singular accession of fright, as if some subtile &amp; bodiless emanation from the abyss were ingulphing my spirit; but the blackness was too great for me to perceive the source of my alarm.\\nAt several points the passage was roofed over by the choking of the upper parts of the narrow fissure; these places being exceeding dark, and forbidding the perception of such burrows as may have existed there. In one such dark space I felt conscious of a singular accession of fright, as if some subtle and bodiless emanation from the abyss were engulfing my spirit; but the blackness was too great for me to perceive the source of my alarm.\\nAt length I emerg’d upon a table-land of moss-grown rock &amp; scanty soil, lit up by a faint moonlight which had replac’d the expiring orb of day. Casting my eyes about, I beheld no living object; but was sensible of a very peculiar stirring far below me, amongst the whispering rushes of the pestilential swamp I had lately quitted.\\nAt length I emerged upon a tableland of moss-grown rock and scanty soil, lit by a faint moonlight which had replaced the expiring orb of day. Casting my eyes about, I beheld no living object; but was sensible of a very peculiar stirring far below me, amongst the whispering rushes of the pestilential swamp I had lately quitted.\\nAfter walking for some distance, I encounter’d the rusty tracks of a street-railway, &amp; the worm-eaten poles which still held the limp &amp; sagging trolley wire. Following this line, I soon came upon a yellow, vestibuled car numbered 1852—of a plain, double-trucked type common from 1900 to 1910. It was untenanted, but evidently ready to start; the trolley being on the wire &amp; the air-brake pump now and then throbbing beneath the floor. I boarded it &amp; looked vainly about for the light switch—noting as I did so the absence of controller handle which implied the brief absence of the motorman. Then I sat down in one of the cross seats toward the middle, awaiting the arrival of the crew &amp; the starting of the vehicle. Presently I heard a swishing in the sparce grass toward the left, &amp; saw the dark forms of two men looming up in the moonlight. They had the regulation caps of a railway company, &amp; I could not doubt but that they were the conductor &amp; motorman. Then one of them sniffed with singular sharpness, &amp; raised his face to howl to the moon. The other dropped on all fours to run toward the car.\\nAfter walking for some distance, I encountered the rusty tracks of a street railway, and the worm-eaten poles which still held the limp and sagging trolley wire. Following this line, I soon came upon a yellow, vestibuled car numbered 1852—of a plain, double-trucked type common from 1900 to 1910. It was untenanted, but evidently ready to start; the trolley being on the wire and the air-brake now and then throbbing beneath the floor. I boarded it and looked vainly about for the light switch—noting as I did so the absence of the controller handle, which thus implied the brief absence of the motorman. Then I sat down in one of the cross seats of the vehicle. Presently I heard a swishing in the sparse grass toward the left, and saw the dark forms of two men looming up in the moonlight. They had the regulation caps of a railway company, and I could not doubt but that they were conductor and motorman. Then one of them sniffed with singular sharpness, and raised his face to howl to the moon. The other dropped on all fours to run toward the car.\\nI leaped up at once &amp; raced madly out of that car &amp; away across endless leagues of plateau till exhaustion waked me—doing this not because the conductor had dropped on all fours, but because the face of the motorman was a mere white cone tapering to one blood-red tentacle.\\xa0.\\xa0.\\xa0.\\nI leaped up at once and raced madly out of that car and across endless leagues of plateau till exhaustion forced me to stop—doing this not because the conductor had dropped on all fours, but because the face of the motorman was a mere white cone tapering to one blood-red-tentacle.\\xa0.\\xa0.\\xa0.\\nI was aware that I only dreamed, but the very awareness was not pleasant.\\nSince that fearful night, I have prayed only for awakening—it has not come!\\nInstead I have found myself an inhabitant of this terrible dream-world! That first night gave way to dawn, and I wandered aimlessly over the lonely swamp-lands. When night came, I still wandered, hoping for awakening. But suddenly I parted the weeds and saw before me the ancient railway car—and to one side a cone-faced thing lifted its head and in the streaming moonlight howled strangely!\\nIt has been the same each day. Night takes me always to that place of horror. I have tried not moving, with the coming of nightfall, but I must walk in my slumber, for always I awaken with the thing of dread howling before me in the pale moonlight, and I turn and flee madly.\\nGod! when will I awaken?\\nThat is what Morgan wrote. I would go to 66 College Street in Providence, but I fear for what I might find there.'}"
      ]
     },
     "execution_count": 8,
     "metadata": {},
     "output_type": "execute_result"
    }
   ],
   "source": [
    "lovdict2[88]['title'] = 'The Thing in the Moonlight'\n",
    "lovdict2[88]['authors'] = 'By H. P. Lovecraft'\n",
    "lovdict2[88]"
   ]
  },
  {
   "cell_type": "code",
   "execution_count": 9,
   "id": "ad31d4ae",
   "metadata": {},
   "outputs": [],
   "source": [
    "# save the final dictionary\n",
    "with open(PATH+\"Lovecraft_dict.json\", \"w\") as file:\n",
    "    json.dump(lovdict2, file, indent=1)"
   ]
  },
  {
   "cell_type": "markdown",
   "id": "a827e667",
   "metadata": {},
   "source": [
    "### The following is chunk production"
   ]
  },
  {
   "cell_type": "markdown",
   "id": "449ed4ba",
   "metadata": {},
   "source": [
    "strictly speaking no longer extractions - included for completeness"
   ]
  },
  {
   "cell_type": "code",
   "execution_count": 10,
   "id": "9fb3fbdd",
   "metadata": {},
   "outputs": [],
   "source": [
    "from chunkers import char_chunks, char_chunks_it"
   ]
  },
  {
   "cell_type": "code",
   "execution_count": 11,
   "id": "0d405f78",
   "metadata": {},
   "outputs": [],
   "source": [
    "with open(PATH+\"Lovecraft_dict.json\", \"r\") as file:\n",
    "    lovdict2 = json.load(file)"
   ]
  },
  {
   "cell_type": "code",
   "execution_count": null,
   "id": "5f8d241d",
   "metadata": {},
   "outputs": [
    {
     "data": {
      "text/plain": [
       "4.823881555395185"
      ]
     },
     "metadata": {},
     "output_type": "display_data"
    }
   ],
   "source": [
    "# mean word length, for choosing the word/char chunks\n",
    "wyrds = [len(q) for lo in lovdict2 for q in lo['content'].split(' ') ]\n",
    "sum(wyrds)/len(wyrds)"
   ]
  },
  {
   "cell_type": "markdown",
   "id": "1972610f",
   "metadata": {},
   "source": [
    "As this example shows, the last chunk is a \"tail\" that will be visibly shorter with the linear chunking process."
   ]
  },
  {
   "cell_type": "code",
   "execution_count": 20,
   "id": "4a1b14b0",
   "metadata": {},
   "outputs": [
    {
     "name": "stdout",
     "output_type": "stream",
     "text": [
      "18567 20.304395604395605 [121.65, 163.47619047619048]\n",
      "1000 → 'Somewhere, to what remote and fearsome region I know not, Denys Barry has gone. I was with him the last night he lived among men, and heard his screams when the thing came to him; but all the peasants and police in County Meath could never find him, or the others, though they searched long and far. And now I shudder when I hear the frogs piping in swamps, or see the moon in lonely places.\\nI had known Denys Barry well in America, where he had grown rich, and had congratulated him when he bought back the old castle by the bog at sleepy Kilderry. It was from Kilderry that his father had come, and it was there that he wished to enjoy his wealth among ancestral scenes. Men of his blood had once ruled over Kilderry and built and dwelt in the castle, but those days were very remote, so that for generations the castle had been empty and decaying. After he went to Ireland Barry wrote me often, and told me how under his care the grey castle was rising tower by tower to its ancient splendour; how'\n",
      "1000 → 'how under his care the grey castle was rising tower by tower to its ancient splendour; how the ivy was climbing slowly over the restored walls as it had climbed so many centuries ago, and how the peasants blessed him for bringing back the old days with his gold from over the sea. But in time there came troubles, and the peasants ceased to bless him, and fled away instead as from a doom. And then he sent a letter and asked me to visit him, for he was lonely in the castle with no one to speak to save the new servants and labourers he had brought from the north.\\nThe bog was the cause of all these troubles, as Barry told me the night I came to the castle. I had reached Kilderry in the summer sunset, as the gold of the sky lighted the green of the hills and groves and the blue of the bog, where on a far islet a strange olden ruin glistened spectrally. That sunset was very beautiful, but the peasants at Ballylough had warned me against it and said that Kilderry had become accursed, so that I'\n",
      "1009 → 'at Ballylough had warned me against it and said that Kilderry had become accursed, so that I almost shuddered to see the high turrets of the castle gilded with fire. Barry’s motor had met me at the Ballylough station, for Kilderry is off the railway. The villagers had shunned the car and the driver from the north, but had whispered to me with pale faces when they saw I was going to Kilderry. And that night, after our reunion, Barry told me why.\\nThe peasants had gone from Kilderry because Denys Barry was to drain the great bog. For all his love of Ireland, America had not left him untouched, and he hated the beautiful wasted space where peat might be cut and land opened up. The legends and superstitions of Kilderry did not move him, and he laughed when the peasants first refused to help, and then cursed him and went away to Ballylough with their few belongings as they saw his determination. In their place he sent for labourers from the north, and when the servants left he replaced them likewise.'\n",
      "1003 → 'he sent for labourers from the north, and when the servants left he replaced them likewise. But it was lonely among strangers, so Barry had asked me to come.\\nWhen I heard the fears which had driven the people from Kilderry I laughed as loudly as my friend had laughed, for these fears were of the vaguest, wildest, and most absurd character. They had to do with some preposterous legend of the bog, and of a grim guardian spirit that dwelt in the strange olden ruin on the far islet I had seen in the sunset. There were tales of dancing lights in the dark of the moon, and of chill winds when the night was warm; of wraiths in white hovering over the waters, and of an imagined city of stone deep down below the swampy surface. But foremost among the weird fancies, and alone in its absolute unanimity, was that of the curse awaiting him who should dare to touch or drain the vast reddish morass. There were secrets, said the peasants, which must not be uncovered; secrets that had lain hidden since the'\n",
      "1000 → 'secrets, said the peasants, which must not be uncovered; secrets that had lain hidden since the plague came to the children of Partholan in the fabulous years beyond history. In the Book of Invaders it is told that these sons of the Greeks were all buried at Tallaght, but old men in Kilderry said that one city was overlooked save by its patron moon-goddess; so that only the wooded hills buried it when the men of Nemed swept down from Scythia in their thirty ships.\\nSuch were the idle tales which had made the villagers leave Kilderry, and when I heard them I did not wonder that Denys Barry had refused to listen. He had, however, a great interest in antiquities; and proposed to explore the bog thoroughly when it was drained. The white ruins on the islet he had often visited, but though their age was plainly great, and their contour very little like that of most ruins in Ireland, they were too dilapidated to tell the days of their glory. Now the work of drainage was ready to begin, and the'\n",
      "1005 → 'dilapidated to tell the days of their glory. Now the work of drainage was ready to begin, and the labourers from the north were soon to strip the forbidden bog of its green moss and red heather, and kill the tiny shell-paved streamlets and quiet blue pools fringed with rushes.\\nAfter Barry had told me these things I was very drowsy, for the travels of the day had been wearying and my host had talked late into the night. A manservant shewed me to my room, which was in a remote tower overlooking the village, and the plain at the edge of the bog, and the bog itself; so that I could see from my windows in the moonlight the silent roofs from which the peasants had fled and which now sheltered the labourers from the north, and too, the parish church with its antique spire, and far out across the brooding bog the remote olden ruin on the islet gleaming white and spectral. Just as I dropped to sleep I fancied I heard faint sounds from the distance; sounds that were wild and half musical, and stirred'\n",
      "1002 → 'I heard faint sounds from the distance; sounds that were wild and half musical, and stirred me with a weird excitement which coloured my dreams. But when I awaked next morning I felt it had all been a dream, for the visions I had seen were more wonderful than any sound of wild pipes in the night. Influenced by the legends that Barry had related, my mind had in slumber hovered around a stately city in a green valley, where marble streets and statues, villas and temples, carvings and inscriptions, all spoke in certain tones the glory that was Greece. When I told this dream to Barry we both laughed; but I laughed the louder, because he was perplexed about his labourers from the north. For the sixth time they had all overslept, waking very slowly and dazedly, and acting as if they had not rested, although they were known to have gone early to bed the night before.\\nThat morning and afternoon I wandered alone through the sun-gilded village and talked now and then with idle labourers, for Barry'\n",
      "1002 → 'alone through the sun-gilded village and talked now and then with idle labourers, for Barry was busy with the final plans for beginning his work of drainage. The labourers were not as happy as they might have been, for most of them seemed uneasy over some dream which they had had, yet which they tried in vain to remember. I told them of my dream, but they were not interested till I spoke of the weird sounds I thought I had heard. Then they looked oddly at me, and said that they seemed to remember weird sounds, too.\\nIn the evening Barry dined with me and announced that he would begin the drainage in two days. I was glad, for although I disliked to see the moss and the heather and the little streams and lakes depart, I had a growing wish to discern the ancient secrets the deep-matted peat might hide. And that night my dreams of piping flutes and marble peristyles came to a sudden and disquieting end; for upon the city in the valley I saw a pestilence descend, and then a frightful avalanche'\n",
      "1004 → 'for upon the city in the valley I saw a pestilence descend, and then a frightful avalanche of wooded slopes that covered the dead bodies in the streets and left unburied only the temple of Artemis on the high peak, where the aged moon-priestess Cleis lay cold and silent with a crown of ivory on her silver head.\\nI have said that I awaked suddenly and in alarm. For some time I could not tell whether I was waking or sleeping, for the sound of flutes still rang shrilly in my ears; but when I saw on the floor the icy moonbeams and the outlines of a latticed Gothic window I decided I must be awake and in the castle at Kilderry. Then I heard a clock from some remote landing below strike the hour of two, and I knew I was awake. Yet still there came that monotonous piping from afar; wild, weird airs that made me think of some dance of fauns on distant Maenalus. It would not let me sleep, and in impatience I sprang up and paced the floor. Only by chance did I go to the north window and look out upon'\n",
      "1003 → 'sprang up and paced the floor. Only by chance did I go to the north window and look out upon the silent village and the plain at the edge of the bog. I had no wish to gaze abroad, for I wanted to sleep; but the flutes tormented me, and I had to do or see something. How could I have suspected the thing I was to behold?\\nThere in the moonlight that flooded the spacious plain was a spectacle which no mortal, having seen it, could ever forget. To the sound of reedy pipes that echoed over the bog there glided silently and eerily a mixed throng of swaying figures, reeling through such a revel as the Sicilians may have danced to Demeter in the old days under the harvest moon beside the Cyane. The wide plain, the golden moonlight, the shadowy moving forms, and above all the shrill monotonous piping, produced an effect which almost paralysed me; yet I noted amidst my fear that half of these tireless, mechanical dancers were the labourers whom I had thought asleep, whilst the other half were strange'\n",
      "1000 → 'mechanical dancers were the labourers whom I had thought asleep, whilst the other half were strange airy beings in white, half indeterminate in nature, but suggesting pale wistful naiads from the haunted fountains of the bog. I do not know how long I gazed at this sight from the lonely turret window before I dropped suddenly in a dreamless swoon, out of which the high sun of morning aroused me.\\nMy first impulse on awaking was to communicate all my fears and observations to Denys Barry, but as I saw the sunlight glowing through the latticed east window I became sure that there was no reality in what I thought I had seen. I am given to strange phantasms, yet am never weak enough to believe in them; so on this occasion contented myself with questioning the labourers, who slept very late and recalled nothing of the previous night save misty dreams of shrill sounds. This matter of the spectral piping harassed me greatly, and I wondered if the crickets of autumn had come before their time to'\n",
      "1001 → 'harassed me greatly, and I wondered if the crickets of autumn had come before their time to vex the night and haunt the visions of men. Later in the day I watched Barry in the library poring over his plans for the great work which was to begin on the morrow, and for the first time felt a touch of the same kind of fear that had driven the peasants away. For some unknown reason I dreaded the thought of disturbing the ancient bog and its sunless secrets, and pictured terrible sights lying black under the unmeasured depth of age-old peat. That these secrets should be brought to light seemed injudicious, and I began to wish for an excuse to leave the castle and the village. I went so far as to talk casually to Barry on the subject, but did not dare continue after he gave his resounding laugh. So I was silent when the sun set fulgently over the far hills, and Kilderry blazed all red and gold in a flame that seemed a portent.\\nWhether the events of that night were of reality or illusion I shall'\n",
      "1000 → 'that seemed a portent.\\nWhether the events of that night were of reality or illusion I shall never ascertain. Certainly they transcend anything we dream of in Nature and the universe; yet in no normal fashion can I explain those disappearances which were known to all men after it was over. I retired early and full of dread, and for a long time could not sleep in the uncanny silence of the tower. It was very dark, for although the sky was clear the moon was now well in the wane, and would not rise till the small hours. I thought as I lay there of Denys Barry, and of what would befall that bog when the day came, and found myself almost frantic with an impulse to rush out into the night, take Barry’s car, and drive madly to Ballylough out of the menaced lands. But before my fears could crystallise into action I had fallen asleep, and gazed in dreams upon the city in the valley, cold and dead under a shroud of hideous shadow.\\nProbably it was the shrill piping that awaked me, yet that piping'\n",
      "1003 → 'shroud of hideous shadow.\\nProbably it was the shrill piping that awaked me, yet that piping was not what I noticed first when I opened my eyes. I was lying with my back to the east window overlooking the bog, where the waning moon would rise, and therefore expected to see light cast on the opposite wall before me; but I had not looked for such a sight as now appeared. Light indeed glowed on the panels ahead, but it was not any light that the moon gives. Terrible and piercing was the shaft of ruddy refulgence that streamed through the Gothic window, and the whole chamber was brilliant with a splendour intense and unearthly. My immediate actions were peculiar for such a situation, but it is only in tales that a man does the dramatic and foreseen thing. Instead of looking out across the bog toward the source of the new light, I kept my eyes from the window in panic fear, and clumsily drew on my clothing with some dazed idea of escape. I remember seizing my revolver and hat, but before it was'\n",
      "1004 → 'clothing with some dazed idea of escape. I remember seizing my revolver and hat, but before it was over I had lost them both without firing the one or donning the other. After a time the fascination of the red radiance overcame my fright, and I crept to the east window and looked out whilst the maddening, incessant piping whined and reverberated through the castle and over all the village.\\nOver the bog was a deluge of flaring light, scarlet and sinister, and pouring from the strange olden ruin on the far islet. The aspect of that ruin I cannot describe—I must have been mad, for it seemed to rise majestic and undecayed, splendid and column-cinctured, the flame-reflecting marble of its entablature piercing the sky like the apex of a temple on a mountain-top. Flutes shrieked and drums began to beat, and as I watched in awe and terror I thought I saw dark saltant forms silhouetted grotesquely against the vision of marble and effulgence. The effect was titanic—altogether unthinkable—and I might'\n",
      "1001 → 'vision of marble and effulgence. The effect was titanic—altogether unthinkable—and I might have stared indefinitely had not the sound of the piping seemed to grow stronger at my left. Trembling with a terror oddly mixed with ecstasy I crossed the circular room to the north window from which I could see the village and the plain at the edge of the bog. There my eyes dilated again with a wild wonder as great as if I had not just turned from a scene beyond the pale of Nature, for on the ghastly red-litten plain was moving a procession of beings in such a manner as none ever saw before save in nightmares.\\nHalf gliding, half floating in the air, the white-clad bog-wraiths were slowly retreating toward the still waters and the island ruin in fantastic formations suggesting some ancient and solemn ceremonial dance. Their waving translucent arms, guided by the detestable piping of those unseen flutes, beckoned in uncanny rhythm to a throng of lurching labourers who followed dog-like with blind,'\n",
      "1002 → 'beckoned in uncanny rhythm to a throng of lurching labourers who followed dog-like with blind, brainless, floundering steps as if dragged by a clumsy but resistless daemon-will. As the naiads neared the bog, without altering their course, a new line of stumbling stragglers zigzagged drunkenly out of the castle from some door far below my window, groped sightlessly across the courtyard and through the intervening bit of village, and joined the floundering column of labourers on the plain. Despite their distance below me I at once knew they were the servants brought from the north, for I recognised the ugly and unwieldy form of the cook, whose very absurdness had now become unutterably tragic. The flutes piped horribly, and again I heard the beating of the drums from the direction of the island ruin. Then silently and gracefully the naiads reached the water and melted one by one into the ancient bog; while the line of followers, never checking their speed, splashed awkwardly after them and'\n",
      "1004 → 'while the line of followers, never checking their speed, splashed awkwardly after them and vanished amidst a tiny vortex of unwholesome bubbles which I could barely see in the scarlet light. And as the last pathetic straggler, the fat cook, sank heavily out of sight in that sullen pool, the flutes and the drums grew silent, and the blinding red rays from the ruins snapped instantaneously out, leaving the village of doom lone and desolate in the wan beams of a new-risen moon.\\nMy condition was now one of indescribable chaos. Not knowing whether I was mad or sane, sleeping or waking, I was saved only by a merciful numbness. I believe I did ridiculous things such as offering prayers to Artemis, Latona, Demeter, Persephone, and Plouton. All that I recalled of a classic youth came to my lips as the horrors of the situation roused my deepest superstitions. I felt that I had witnessed the death of a whole village, and knew I was alone in the castle with Denys Barry, whose boldness had brought down'\n",
      "1004 → 'village, and knew I was alone in the castle with Denys Barry, whose boldness had brought down a doom. As I thought of him new terrors convulsed me, and I fell to the floor; not fainting, but physically helpless. Then I felt the icy blast from the east window where the moon had risen, and began to hear the shrieks in the castle far below me. Soon those shrieks had attained a magnitude and quality which cannot be written of, and which make me faint as I think of them. All I can say is that they came from something I had known as a friend.\\nAt some time during this shocking period the cold wind and the screaming must have roused me, for my next impression is of racing madly through inky rooms and corridors and out across the courtyard into the hideous night. They found me at dawn wandering mindless near Ballylough, but what unhinged me utterly was not any of the horrors I had seen or heard before. What I muttered about as I came slowly out of the shadows was a pair of fantastic incidents which'\n",
      "1005 → 'muttered about as I came slowly out of the shadows was a pair of fantastic incidents which occurred in my flight; incidents of no significance, yet which haunt me unceasingly when I am alone in certain marshy places or in the moonlight.\\nAs I fled from that accursed castle along the bog’s edge I heard a new sound; common, yet unlike any I had heard before at Kilderry. The stagnant waters, lately quite devoid of animal life, now teemed with a horde of slimy enormous frogs which piped shrilly and incessantly in tones strangely out of keeping with their size. They glistened bloated and green in the moonbeams, and seemed to gaze up at the fount of light. I followed the gaze of one very fat and ugly frog, and saw the second of the things which drove my senses away.\\nStretching directly from the strange olden ruin on the far islet to the waning moon, my eyes seemed to trace a beam of faint quivering radiance having no reflection in the waters of the bog. And upward along that pallid path my fevered'\n",
      "362 → 'having no reflection in the waters of the bog. And upward along that pallid path my fevered fancy pictured a thin shadow slowly writhing; a vague contorted shadow struggling as if drawn by unseen daemons. Crazed as I was, I saw in that awful shadow a monstrous resemblance—a nauseous, unbelievable caricature—a blasphemous effigy of him who had been Denys Barry.'\n"
     ]
    }
   ],
   "source": [
    "char_chunks(lovdict2[56]['content'], length=1000, overlap=90);"
   ]
  },
  {
   "cell_type": "code",
   "execution_count": null,
   "id": "73600242",
   "metadata": {},
   "outputs": [
    {
     "data": {
      "text/plain": [
       "4.823881555395185"
      ]
     },
     "metadata": {},
     "output_type": "display_data"
    }
   ],
   "source": [
    "# mean word length, for choosing the word/char chunks\n",
    "wyrds = [len(q) for lo in lovdict2 for q in lo['content'].split(' ') ]\n",
    "sum(wyrds)/len(wyrds)"
   ]
  },
  {
   "cell_type": "markdown",
   "id": "15e3cdc7",
   "metadata": {},
   "source": [
    "So, we use the iterative chunking, which slowly increases chunk size and overlap<br>\n",
    "to bring the last chunk's length to at least 95% of the mean length of the other chunks.<br>\n",
    "For given length and overlap there is a theoretical number of chunks that fit into the whole text,<br>\n",
    "which _should_ be integer, but isn't (generically). So we aim at the nearest integer,<br>\n",
    "either up (by increaceasing overlap) or down (by increasing legth)."
   ]
  },
  {
   "cell_type": "code",
   "execution_count": 13,
   "id": "dd1bfa27",
   "metadata": {},
   "outputs": [
    {
     "name": "stdout",
     "output_type": "stream",
     "text": [
      "  0 0.9697 final length: 1010, overlap: 118\n",
      "  1 0.9697 final length: 1010, overlap: 98\n",
      "  2 0.9765 final length: 1060, overlap: 122\n",
      "  3 0.9656 final length: 1000, overlap: 170\n",
      "  4 0.9682 final length: 1050, overlap: 94\n",
      "  5 0.9602 final length: 1030, overlap: 90\n",
      "  6 0.9653 final length: 1040, overlap: 118\n",
      "  7 0.9775 final length: 1000, overlap: 98\n",
      "  8 0.9678 final length: 1137, overlap: 142\n",
      "  9 0.9761 final length: 1010, overlap: 98\n",
      " 10 0.9598 final length: 1000, overlap: 90\n",
      " 11 0.9535 final length: 1030, overlap: 98\n",
      " 12 0.9983 final length: 1050, overlap: 146\n",
      " 13 0.9924 final length: 1000, overlap: 90\n",
      " 14 0.9688 final length: 1020, overlap: 98\n",
      " 15 0.9819 final length: 1020, overlap: 90\n",
      " 16 0.9895 final length: 1000, overlap: 114\n",
      " 17 0.9682 final length: 1000, overlap: 94\n",
      " 18 0.9720 final length: 1000, overlap: 118\n",
      " 19 0.9586 final length: 1000, overlap: 98\n",
      " 20 1.0021 final length: 1010, overlap: 90\n",
      " 21 0.9848 final length: 1020, overlap: 102\n",
      " 22 0.9706 final length: 1010, overlap: 90\n",
      " 23 0.9956 final length: 1000, overlap: 114\n",
      " 24 0.9686 final length: 1071, overlap: 134\n",
      " 25 0.9982 final length: 1268, overlap: 130\n",
      " 26 0.9511 final length: 1060, overlap: 102\n",
      " 27 1.0028 final length: 1040, overlap: 130\n",
      " 28 0.9838 final length: 1010, overlap: 90\n",
      " 29 1.0003 final length: 1010, overlap: 90\n",
      " 30 0.9574 final length: 1030, overlap: 106\n",
      " 31 0.9816 final length: 1010, overlap: 118\n",
      " 32 0.9776 final length: 1000, overlap: 106\n",
      " 33 0.9676 final length: 1040, overlap: 126\n",
      " 34 1.0022 final length: 1020, overlap: 94\n",
      " 35 0.9903 final length: 1040, overlap: 106\n",
      " 36 0.9905 final length: 1020, overlap: 102\n",
      " 37 0.9620 final length: 1020, overlap: 94\n",
      " 38 0.9875 final length: 1115, overlap: 90\n",
      " 39 0.9569 final length: 1010, overlap: 94\n",
      " 40 0.9833 final length: 1030, overlap: 98\n",
      " 41 0.9669 final length: 1000, overlap: 94\n",
      " 42 0.9766 final length: 1040, overlap: 126\n",
      " 43 0.9551 final length: 1060, overlap: 110\n",
      " 44 0.9792 final length: 1030, overlap: 122\n",
      " 45 0.9968 final length: 1020, overlap: 98\n",
      " 46 0.9825 final length: 1030, overlap: 90\n",
      " 47 0.9947 final length: 1030, overlap: 114\n",
      " 48 1.0007 final length: 1115, overlap: 126\n",
      " 49 0.9790 final length: 1030, overlap: 98\n",
      " 50 1.0017 final length: 1207, overlap: 90\n",
      " 51 0.9965 final length: 1020, overlap: 94\n",
      " 52 0.9663 final length: 1030, overlap: 110\n",
      " 53 0.9640 final length: 1030, overlap: 114\n",
      " 54 0.9838 final length: 1532, overlap: 174\n",
      " 55 1.0010 final length: 1000, overlap: 90\n",
      " 56 0.9875 final length: 1030, overlap: 106\n",
      " 57 0.9648 final length: 1562, overlap: 210\n",
      " 58 0.9582 final length: 1020, overlap: 106\n",
      " 59 0.9695 final length: 1000, overlap: 138\n",
      " 60 0.9617 final length: 1071, overlap: 94\n",
      " 61 0.9756 final length: 1010, overlap: 102\n",
      " 62 0.9918 final length: 1050, overlap: 114\n",
      " 63 0.9542 final length: 1040, overlap: 90\n",
      " 64 0.9554 final length: 1020, overlap: 114\n",
      " 65 0.9551 final length: 1000, overlap: 98\n",
      " 66 0.9712 final length: 1020, overlap: 98\n",
      " 67 0.9874 final length: 1000, overlap: 90\n",
      " 68 0.9984 final length: 1010, overlap: 94\n",
      " 69 0.9583 final length: 1010, overlap: 118\n",
      " 70 0.9506 final length: 1030, overlap: 90\n",
      " 71 0.9686 final length: 1010, overlap: 98\n",
      " 72 0.9611 final length: 1010, overlap: 102\n",
      " 73 0.9832 final length: 1010, overlap: 102\n",
      " 74 0.9547 final length: 1010, overlap: 130\n",
      " 75 0.9976 final length: 1020, overlap: 90\n",
      " 76 0.9772 final length: 1487, overlap: 238\n",
      " 77 0.9956 final length: 1594, overlap: 258\n",
      " 78 0.9506 final length: 1000, overlap: 102\n",
      " 79 0.9933 final length: 1010, overlap: 94\n",
      " 80 0.9574 final length: 1020, overlap: 114\n",
      " 81 0.9504 final length: 1000, overlap: 102\n",
      " 82 0.9566 final length: 1000, overlap: 90\n",
      " 83 0.9547 final length: 1000, overlap: 90\n",
      " 84 0.9777 final length: 1010, overlap: 122\n",
      " 85 0.9509 final length: 1030, overlap: 94\n",
      " 86 0.9857 final length: 1040, overlap: 118\n",
      " 87 0.9937 final length: 1010, overlap: 90\n",
      " 88 0.9799 final length: 1000, overlap: 138\n",
      " 89 0.9580 final length: 1159, overlap: 154\n",
      " 90 0.9565 final length: 1050, overlap: 98\n",
      " 91 0.9651 final length: 1010, overlap: 118\n",
      " 92 0.9562 final length: 1040, overlap: 114\n",
      " 93 0.9773 final length: 1000, overlap: 94\n",
      " 94 0.9723 final length: 1000, overlap: 98\n",
      " 95 0.9712 final length: 1020, overlap: 98\n",
      " 96 0.9811 final length: 1010, overlap: 114\n",
      " 97 0.9990 final length: 1010, overlap: 98\n",
      " 98 0.9815 final length: 1010, overlap: 94\n",
      " 99 0.9789 final length: 1010, overlap: 122\n",
      "100 0.9928 final length: 1010, overlap: 90\n",
      "101 0.9731 final length: 1050, overlap: 90\n",
      "102 0.9567 final length: 1401, overlap: 206\n",
      "103 0.9595 final length: 1000, overlap: 94\n",
      "104 0.9780 final length: 1093, overlap: 110\n"
     ]
    }
   ],
   "source": [
    "chunk_dict_list = []\n",
    "for k, story in enumerate(lovdict2):\n",
    "    print(f\"{k:3d} \", end='', flush=True)\n",
    "    loc_chunks = char_chunks_it(story['content'] , length=1000, overlap=90, verbose=False)\n",
    "    L = len(loc_chunks)\n",
    "    for i, chunk in enumerate(loc_chunks):\n",
    "        chunk_dict_list.append( { 'story_id': k, 'title': story['title'], 'authors': story['authors'], 'len': L, 'chunk_id': i, 'text': chunk} )"
   ]
  },
  {
   "cell_type": "code",
   "execution_count": 14,
   "id": "aee3a85a",
   "metadata": {},
   "outputs": [],
   "source": [
    "with open(PATH+'Lovecraft_chunks.json','w') as file:\n",
    "    json.dump(chunk_dict_list, file, indent=1)"
   ]
  },
  {
   "cell_type": "code",
   "execution_count": null,
   "id": "471f315f",
   "metadata": {},
   "outputs": [],
   "source": []
  }
 ],
 "metadata": {
  "kernelspec": {
   "display_name": "base",
   "language": "python",
   "name": "python3"
  },
  "language_info": {
   "codemirror_mode": {
    "name": "ipython",
    "version": 3
   },
   "file_extension": ".py",
   "mimetype": "text/x-python",
   "name": "python",
   "nbconvert_exporter": "python",
   "pygments_lexer": "ipython3",
   "version": "3.12.7"
  }
 },
 "nbformat": 4,
 "nbformat_minor": 5
}
