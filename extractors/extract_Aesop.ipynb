{
 "cells": [
  {
   "cell_type": "code",
   "execution_count": 2,
   "id": "be456762",
   "metadata": {},
   "outputs": [],
   "source": [
    "import json\n",
    "PATH = \"\" # working directory"
   ]
  },
  {
   "cell_type": "code",
   "execution_count": null,
   "id": "566aa567",
   "metadata": {},
   "outputs": [],
   "source": [
    "# This file you simply get from Project Gutenberg at https://www.gutenberg.org/ebooks/11339\n",
    "with open(PATH+\"Aesop - Fables.txt\",\"r\") as file:\n",
    "    FABLES = file.read()"
   ]
  },
  {
   "cell_type": "code",
   "execution_count": 4,
   "id": "2ee162a9",
   "metadata": {},
   "outputs": [],
   "source": [
    "# preliminary cleaning\n",
    "FABLES = FABLES.replace(\"\\ufeff\",\"\").replace(\"Æ\",\"Ae\").replace(\"æ\",\"ae\")"
   ]
  },
  {
   "cell_type": "markdown",
   "id": "53870475",
   "metadata": {},
   "source": [
    "The stories are \"conveniently\" separated by 5 newlines; title and moral are separated by double newlines."
   ]
  },
  {
   "cell_type": "code",
   "execution_count": 5,
   "id": "9193e5d9",
   "metadata": {},
   "outputs": [
    {
     "data": {
      "text/plain": [
       "(284, 647.056338028169)"
      ]
     },
     "execution_count": 5,
     "metadata": {},
     "output_type": "execute_result"
    }
   ],
   "source": [
    "fablist = FABLES.split(\"\\n\\n\\n\\n\\n\")\n",
    "fabdict = []\n",
    "for fab in fablist:\n",
    "    tit, rest = fab.split('\\n\\n\\n')\n",
    "    cont, *rest = rest.split('\\n\\n')\n",
    "    cont = cont.replace('\\n',' ')\n",
    "    mor = (rest or [''])[0].replace('    ','').replace('\\n',' ')\n",
    "    #print(tit, '=', cont, mor, '\\n')\n",
    "    fabdict.append( {'title': tit.strip(), 'authors': 'Aesop', 'content': cont.strip(), 'moral': mor.strip()} )\n",
    "len(fabdict), sum([ len(s['content']) for s in fabdict ])/len(fabdict) "
   ]
  },
  {
   "cell_type": "code",
   "execution_count": null,
   "id": "fdac941e",
   "metadata": {},
   "outputs": [],
   "source": [
    "# save the basic dictionary for recall\n",
    "with open(PATH+\"Aesop_fables.json\", \"w\") as file:\n",
    "    json.dump(fabdict, file, indent=1)"
   ]
  },
  {
   "cell_type": "code",
   "execution_count": 7,
   "id": "ebb8f604",
   "metadata": {},
   "outputs": [
    {
     "data": {
      "text/plain": [
       "117"
      ]
     },
     "execution_count": 7,
     "metadata": {},
     "output_type": "execute_result"
    }
   ],
   "source": [
    "# max moral is short, so it can be used as a chunk in its own right\n",
    "max( [len(x['moral']) for x in fabdict] )"
   ]
  },
  {
   "cell_type": "code",
   "execution_count": 9,
   "id": "25e617fd",
   "metadata": {},
   "outputs": [
    {
     "data": {
      "text/plain": [
       "{'title': 'THE BAT AND THE WEASELS',\n",
       " 'authors': 'Aesop',\n",
       " 'content': 'A Bat fell to the ground and was caught by a Weasel, and was just going to be killed and eaten when it begged to be let go. The Weasel said he couldn\\'t do that because he was an enemy of all birds on principle. \"Oh, but,\" said the Bat, \"I\\'m not a bird at all: I\\'m a mouse.\" \"So you are,\" said the Weasel, \"now I come to look at you\"; and he let it go. Some time after this the Bat was caught in just the same way by another Weasel, and, as before, begged for its life. \"No,\" said the Weasel, \"I never let a mouse go by any chance.\" \"But I\\'m not a mouse,\" said the Bat; \"I\\'m a bird.\" \"Why, so you are,\" said the Weasel; and he too let the Bat go.',\n",
       " 'moral': 'Look and see which way the wind blows before you commit yourself.'}"
      ]
     },
     "execution_count": 9,
     "metadata": {},
     "output_type": "execute_result"
    }
   ],
   "source": [
    "fabdict[6]"
   ]
  },
  {
   "cell_type": "markdown",
   "id": "de582980",
   "metadata": {},
   "source": [
    "### Splitting, included for completeness"
   ]
  },
  {
   "cell_type": "code",
   "execution_count": 10,
   "id": "5724a920",
   "metadata": {},
   "outputs": [],
   "source": [
    "from chunkers import char_chunks, char_chunks_it"
   ]
  },
  {
   "cell_type": "code",
   "execution_count": null,
   "id": "f4b3b840",
   "metadata": {},
   "outputs": [],
   "source": [
    "with open(PATH+'Aesop_fables.json','r') as file:\n",
    "    fabdict = json.load(file)"
   ]
  },
  {
   "cell_type": "code",
   "execution_count": 11,
   "id": "93d849f4",
   "metadata": {},
   "outputs": [
    {
     "name": "stdout",
     "output_type": "stream",
     "text": [
      "602 2.9846153846153847 [21.5, 86.0]\n",
      "220 → 'A Cat pounced on a Cock, and cast about for some good excuse for making a meal off him, for Cats don\\'t as a rule eat Cocks, and she knew she ought not to. At last she said, \"You make a great nuisance of yourself at night'\n",
      "219 → 'of yourself at night by crowing and keeping people awake: so I am going to make an end of you.\" But the Cock defended himself by saying that he crowed in order that men might wake up and set about the day\\'s work in good'\n",
      "205 → 'the day\\'s work in good time, and that they really couldn\\'t very well do without him. \"That may be,\" said the Cat, \"but whether they can or not, I\\'m not going without my dinner\"; and she killed and ate him.'\n"
     ]
    }
   ],
   "source": [
    "char_chunks(fabdict[115]['content'], length=215, overlap=20, verbose=True);"
   ]
  },
  {
   "cell_type": "code",
   "execution_count": 12,
   "id": "65afde72",
   "metadata": {},
   "outputs": [
    {
     "name": "stdout",
     "output_type": "stream",
     "text": [
      "0.9773 final length: 216, overlap: 22\n"
     ]
    },
    {
     "data": {
      "text/plain": [
       "['A Cat pounced on a Cock, and cast about for some good excuse for making a meal off him, for Cats don\\'t as a rule eat Cocks, and she knew she ought not to. At last she said, \"You make a great nuisance of yourself at night',\n",
       " 'nuisance of yourself at night by crowing and keeping people awake: so I am going to make an end of you.\" But the Cock defended himself by saying that he crowed in order that men might wake up and set about the day\\'s work',\n",
       " 'set about the day\\'s work in good time, and that they really couldn\\'t very well do without him. \"That may be,\" said the Cat, \"but whether they can or not, I\\'m not going without my dinner\"; and she killed and ate him.']"
      ]
     },
     "execution_count": 12,
     "metadata": {},
     "output_type": "execute_result"
    }
   ],
   "source": [
    "char_chunks_it(fabdict[115]['content'], length=200, overlap=20, verbose=False)"
   ]
  },
  {
   "cell_type": "code",
   "execution_count": null,
   "id": "a80ff8fe",
   "metadata": {},
   "outputs": [],
   "source": [
    "# example: execute to see how the iterations change chunks\n",
    "char_chunks_it(fabdict[116]['content'], length=200, overlap=20)"
   ]
  },
  {
   "cell_type": "code",
   "execution_count": 14,
   "id": "d6ebd4d7",
   "metadata": {},
   "outputs": [
    {
     "data": {
      "text/plain": [
       "['An Old Crab said to her son, \"Why do you walk sideways like that, my son? You ought to walk straight.\" The Young Crab replied, \"Show',\n",
       " 'Young Crab replied, \"Show me how, dear mother, and I\\'ll follow your example.\" The Old Crab tried, but tried in vain, and then saw',\n",
       " 'tried in vain, and then saw how foolish she had been to find fault with her child.']"
      ]
     },
     "execution_count": 14,
     "metadata": {},
     "output_type": "execute_result"
    }
   ],
   "source": [
    "# just a comparison\n",
    "from chunkers import word_chunks\n",
    "word_chunks(fabdict[49]['content'], length=32, overlap=6)"
   ]
  },
  {
   "cell_type": "code",
   "execution_count": 15,
   "id": "9d9f5ca1",
   "metadata": {},
   "outputs": [
    {
     "name": "stdout",
     "output_type": "stream",
     "text": [
      "  0 0.9764 final length: 208, overlap: 24\n",
      "  1 0.9701 final length: 200, overlap: 39\n",
      "  2 0.9666 final length: 216, overlap: 24\n",
      "  3 0.9825 final length: 200, overlap: 24\n",
      "  4 1.0268 final length: 202, overlap: 24\n",
      "  5 0.9770 final length: 200, overlap: 26\n",
      "  6 0.9905 final length: 208, overlap: 63\n",
      "  7 1.0000 final length: 222, overlap: 24\n",
      "  8 0.9852 final length: 200, overlap: 47\n",
      "  9 0.9559 final length: 200, overlap: 26\n",
      " 10 0.9557 final length: 200, overlap: 24\n",
      " 11 1.0000 final length: 200, overlap: 47\n",
      " 12 0.9802 final length: 200, overlap: 63\n",
      " 13 0.9709 final length: 200, overlap: 59\n",
      " 14 0.9819 final length: 200, overlap: 24\n",
      " 15 1.0000 final length: 224, overlap: 24\n",
      " 16 1.0111 final length: 200, overlap: 26\n",
      " 17 0.9580 final length: 200, overlap: 39\n",
      " 18 0.9592 final length: 200, overlap: 26\n",
      " 19 1.0130 final length: 228, overlap: 24\n",
      " 20 0.9559 final length: 200, overlap: 43\n",
      " 21 1.0012 final length: 202, overlap: 43\n",
      " 22 0.9851 final length: 200, overlap: 47\n",
      " 23 0.9759 final length: 214, overlap: 24\n",
      " 24 1.0048 final length: 204, overlap: 24\n",
      " 25 1.0072 final length: 202, overlap: 24\n",
      " 26 0.9626 final length: 200, overlap: 43\n",
      " 27 0.9734 final length: 202, overlap: 39\n",
      " 28 1.0037 final length: 200, overlap: 24\n",
      " 29 0.9754 final length: 200, overlap: 63\n",
      " 30 1.0182 final length: 200, overlap: 43\n",
      " 31 1.0134 final length: 200, overlap: 35\n",
      " 32 0.9819 final length: 216, overlap: 24\n",
      " 33 0.9606 final length: 200, overlap: 24\n",
      " 34 0.9934 final length: 200, overlap: 39\n",
      " 35 0.9610 final length: 200, overlap: 43\n",
      " 36 1.0061 final length: 216, overlap: 24\n",
      " 37 0.9728 final length: 210, overlap: 24\n",
      " 38 1.0221 final length: 226, overlap: 24\n",
      " 39 0.9770 final length: 212, overlap: 24\n",
      " 40 0.9778 final length: 200, overlap: 26\n",
      " 41 1.0427 final length: 210, overlap: 24\n",
      " 42 1.0124 final length: 236, overlap: 24\n",
      " 43 0.9863 final length: 204, overlap: 24\n",
      " 44 1.0118 final length: 210, overlap: 24\n",
      " 45 0.9502 final length: 200, overlap: 43\n",
      " 46 0.9915 final length: 208, overlap: 24\n",
      " 47 1.0134 final length: 222, overlap: 24\n",
      " 48 0.9505 final length: 200, overlap: 32\n",
      " 49 0.9755 final length: 200, overlap: 103\n",
      " 50 1.0000 final length: 218, overlap: 24\n",
      " 51 0.9796 final length: 216, overlap: 26\n",
      " 52 1.0029 final length: 200, overlap: 24\n",
      " 53 0.9834 final length: 200, overlap: 24\n",
      " 54 0.9578 final length: 200, overlap: 35\n",
      " 55 0.9682 final length: 200, overlap: 24\n",
      " 56 0.9851 final length: 200, overlap: 55\n",
      " 57 0.9703 final length: 200, overlap: 51\n",
      " 58 0.9608 final length: 200, overlap: 24\n",
      " 59 0.9709 final length: 210, overlap: 24\n",
      " 60 1.0209 final length: 238, overlap: 24\n",
      " 61 0.9911 final length: 218, overlap: 24\n",
      " 62 0.9834 final length: 200, overlap: 24\n",
      " 63 0.9505 final length: 200, overlap: 29\n",
      " 64 0.9507 final length: 200, overlap: 43\n",
      " 65 0.9639 final length: 200, overlap: 43\n",
      " 66 1.0030 final length: 218, overlap: 24\n",
      " 67 0.9517 final length: 200, overlap: 71\n",
      " 68 0.9596 final length: 200, overlap: 32\n",
      " 69 0.9676 final length: 202, overlap: 24\n",
      " 70 0.9690 final length: 204, overlap: 24\n",
      " 71 0.9510 final length: 200, overlap: 87\n",
      " 72 1.0000 final length: 264, overlap: 24\n",
      " 73 0.9557 final length: 200, overlap: 87\n",
      " 74 0.9825 final length: 200, overlap: 39\n",
      " 75 1.0199 final length: 200, overlap: 39\n",
      " 76 1.0050 final length: 200, overlap: 55\n",
      " 77 0.9909 final length: 216, overlap: 24\n",
      " 78 0.9712 final length: 202, overlap: 75\n",
      " 79 0.9864 final length: 216, overlap: 24\n",
      " 80 0.9934 final length: 228, overlap: 24\n",
      " 81 0.9900 final length: 200, overlap: 24\n",
      " 82 0.9671 final length: 200, overlap: 47\n",
      " 83 0.9593 final length: 212, overlap: 24\n",
      " 84 0.9602 final length: 200, overlap: 103\n",
      " 85 0.9976 final length: 210, overlap: 24\n",
      " 86 1.0046 final length: 214, overlap: 24\n",
      " 87 0.9900 final length: 200, overlap: 47\n",
      " 88 1.0000 final length: 220, overlap: 24\n",
      " 89 1.0047 final length: 214, overlap: 24\n",
      " 90 0.9868 final length: 200, overlap: 51\n",
      " 91 0.9878 final length: 240, overlap: 24\n",
      " 92 0.9587 final length: 214, overlap: 24\n",
      " 93 1.0092 final length: 216, overlap: 24\n",
      " 94 0.9975 final length: 200, overlap: 24\n",
      " 95 0.9653 final length: 200, overlap: 24\n",
      " 96 0.9863 final length: 216, overlap: 24\n",
      " 97 0.9510 final length: 200, overlap: 24\n",
      " 98 0.9510 final length: 200, overlap: 24\n",
      " 99 1.0045 final length: 218, overlap: 24\n",
      "100 0.9677 final length: 200, overlap: 26\n",
      "101 0.9826 final length: 200, overlap: 24\n",
      "102 0.9660 final length: 200, overlap: 59\n",
      "103 0.9810 final length: 204, overlap: 24\n",
      "104 1.0045 final length: 220, overlap: 24\n",
      "105 0.9975 final length: 200, overlap: 39\n",
      "106 1.0394 final length: 214, overlap: 24\n",
      "107 1.0091 final length: 214, overlap: 24\n",
      "108 1.0136 final length: 218, overlap: 24\n",
      "109 0.9600 final length: 200, overlap: 43\n",
      "110 0.9554 final length: 200, overlap: 55\n",
      "111 0.9581 final length: 202, overlap: 55\n",
      "112 0.9703 final length: 200, overlap: 79\n",
      "113 1.0094 final length: 210, overlap: 24\n",
      "114 0.9573 final length: 204, overlap: 24\n",
      "115 0.9773 final length: 216, overlap: 24\n",
      "116 0.9917 final length: 200, overlap: 35\n",
      "117 0.9802 final length: 200, overlap: 35\n",
      "118 0.9850 final length: 220, overlap: 29\n",
      "119 0.9644 final length: 218, overlap: 24\n",
      "120 0.9821 final length: 220, overlap: 24\n",
      "121 0.9926 final length: 200, overlap: 43\n",
      "122 1.0042 final length: 232, overlap: 24\n",
      "123 1.0228 final length: 214, overlap: 24\n",
      "124 0.9657 final length: 200, overlap: 29\n",
      "125 0.9816 final length: 214, overlap: 24\n",
      "126 0.9882 final length: 208, overlap: 24\n",
      "127 0.9843 final length: 204, overlap: 24\n",
      "128 0.9865 final length: 220, overlap: 24\n",
      "129 1.0347 final length: 200, overlap: 24\n",
      "130 0.9908 final length: 214, overlap: 24\n",
      "131 1.0209 final length: 238, overlap: 24\n",
      "132 1.0043 final length: 232, overlap: 24\n",
      "133 0.9900 final length: 200, overlap: 24\n",
      "134 0.9759 final length: 200, overlap: 35\n",
      "135 1.0598 final length: 234, overlap: 24\n",
      "136 0.9529 final length: 200, overlap: 35\n",
      "137 1.0250 final length: 238, overlap: 24\n",
      "138 0.9624 final length: 200, overlap: 43\n",
      "139 0.9686 final length: 220, overlap: 24\n",
      "140 0.9557 final length: 200, overlap: 35\n",
      "141 0.9653 final length: 200, overlap: 47\n",
      "142 0.9653 final length: 200, overlap: 43\n",
      "143 0.9732 final length: 218, overlap: 24\n",
      "144 0.9790 final length: 212, overlap: 24\n",
      "145 1.0197 final length: 200, overlap: 67\n",
      "146 0.9803 final length: 226, overlap: 24\n",
      "147 1.0000 final length: 200, overlap: 63\n",
      "148 1.0183 final length: 218, overlap: 24\n",
      "149 0.9954 final length: 218, overlap: 24\n",
      "150 0.9655 final length: 200, overlap: 95\n",
      "151 0.9572 final length: 200, overlap: 47\n",
      "152 0.9950 final length: 200, overlap: 24\n",
      "153 0.9934 final length: 200, overlap: 39\n",
      "154 0.9830 final length: 218, overlap: 26\n",
      "155 0.9801 final length: 200, overlap: 32\n",
      "156 0.9554 final length: 200, overlap: 32\n",
      "157 0.9934 final length: 224, overlap: 24\n",
      "158 1.0023 final length: 214, overlap: 29\n",
      "159 0.9703 final length: 200, overlap: 29\n",
      "160 0.9558 final length: 222, overlap: 24\n",
      "161 0.9975 final length: 200, overlap: 24\n",
      "162 1.0162 final length: 200, overlap: 29\n",
      "163 0.9951 final length: 204, overlap: 59\n",
      "164 1.0083 final length: 200, overlap: 24\n",
      "165 0.9951 final length: 202, overlap: 47\n",
      "166 0.9703 final length: 216, overlap: 24\n",
      "167 0.9930 final length: 212, overlap: 24\n",
      "168 1.0049 final length: 200, overlap: 35\n",
      "169 0.9938 final length: 200, overlap: 43\n",
      "170 0.9727 final length: 206, overlap: 32\n",
      "171 0.9835 final length: 212, overlap: 32\n",
      "172 1.0236 final length: 208, overlap: 24\n",
      "173 0.9662 final length: 200, overlap: 67\n",
      "174 1.0232 final length: 200, overlap: 26\n",
      "175 0.9701 final length: 200, overlap: 59\n",
      "176 0.9826 final length: 200, overlap: 47\n",
      "177 0.9814 final length: 200, overlap: 26\n",
      "178 1.0334 final length: 200, overlap: 32\n",
      "179 0.9727 final length: 200, overlap: 39\n",
      "180 0.9732 final length: 202, overlap: 24\n",
      "181 0.9526 final length: 200, overlap: 47\n",
      "182 0.9777 final length: 200, overlap: 35\n",
      "183 0.9937 final length: 208, overlap: 29\n",
      "184 0.9755 final length: 200, overlap: 75\n",
      "185 1.0119 final length: 206, overlap: 24\n",
      "186 0.9791 final length: 210, overlap: 24\n",
      "187 1.0045 final length: 216, overlap: 24\n",
      "188 0.9800 final length: 200, overlap: 47\n",
      "189 1.0282 final length: 212, overlap: 24\n",
      "190 1.0000 final length: 220, overlap: 24\n",
      "191 0.9940 final length: 204, overlap: 47\n",
      "192 0.9956 final length: 226, overlap: 24\n",
      "193 0.9887 final length: 218, overlap: 24\n",
      "194 0.9777 final length: 200, overlap: 35\n",
      "195 0.9957 final length: 226, overlap: 24\n",
      "196 1.0249 final length: 208, overlap: 29\n",
      "197 0.9518 final length: 200, overlap: 32\n",
      "198 1.0025 final length: 200, overlap: 29\n",
      "199 1.0486 final length: 210, overlap: 24\n",
      "200 1.0065 final length: 202, overlap: 39\n",
      "201 0.9831 final length: 204, overlap: 24\n",
      "202 0.9630 final length: 200, overlap: 47\n",
      "203 1.0045 final length: 216, overlap: 24\n",
      "204 0.9829 final length: 230, overlap: 29\n",
      "205 1.0115 final length: 206, overlap: 24\n",
      "206 0.9952 final length: 206, overlap: 24\n",
      "207 0.9884 final length: 200, overlap: 29\n",
      "208 1.0267 final length: 212, overlap: 24\n",
      "209 1.0085 final length: 234, overlap: 24\n",
      "210 0.9826 final length: 200, overlap: 39\n",
      "211 0.9941 final length: 222, overlap: 29\n",
      "212 0.9848 final length: 210, overlap: 24\n",
      "213 0.9576 final length: 200, overlap: 39\n",
      "214 1.0074 final length: 200, overlap: 24\n",
      "215 0.9502 final length: 200, overlap: 39\n",
      "216 0.9559 final length: 202, overlap: 51\n",
      "217 0.9854 final length: 202, overlap: 24\n",
      "218 1.0000 final length: 228, overlap: 24\n",
      "219 0.9893 final length: 216, overlap: 24\n",
      "220 0.9891 final length: 212, overlap: 24\n",
      "221 1.0174 final length: 226, overlap: 24\n",
      "222 0.9915 final length: 210, overlap: 24\n",
      "223 0.9977 final length: 214, overlap: 24\n",
      "224 1.0098 final length: 202, overlap: 24\n",
      "225 0.9726 final length: 200, overlap: 24\n",
      "226 1.0270 final length: 222, overlap: 24\n",
      "227 1.0112 final length: 220, overlap: 24\n",
      "228 0.9726 final length: 200, overlap: 32\n",
      "229 1.0096 final length: 206, overlap: 24\n",
      "230 1.0000 final length: 234, overlap: 24\n",
      "231 1.0049 final length: 200, overlap: 24\n",
      "232 1.0362 final length: 218, overlap: 24\n",
      "233 0.9852 final length: 218, overlap: 24\n",
      "234 1.0278 final length: 214, overlap: 24\n",
      "235 1.0178 final length: 204, overlap: 32\n",
      "236 0.9576 final length: 200, overlap: 59\n",
      "237 0.9526 final length: 200, overlap: 39\n",
      "238 0.9763 final length: 228, overlap: 24\n",
      "239 1.0222 final length: 202, overlap: 24\n",
      "240 0.9854 final length: 200, overlap: 39\n",
      "241 1.0365 final length: 208, overlap: 24\n",
      "242 0.9563 final length: 200, overlap: 115\n",
      "243 0.9765 final length: 200, overlap: 43\n",
      "244 0.9559 final length: 200, overlap: 43\n",
      "245 0.9636 final length: 200, overlap: 47\n",
      "246 1.0062 final length: 200, overlap: 35\n",
      "247 0.9604 final length: 200, overlap: 35\n",
      "248 0.9900 final length: 200, overlap: 39\n",
      "249 0.9665 final length: 212, overlap: 24\n",
      "250 0.9954 final length: 216, overlap: 24\n",
      "251 0.9541 final length: 200, overlap: 32\n",
      "252 0.9852 final length: 200, overlap: 26\n",
      "253 1.0180 final length: 210, overlap: 32\n",
      "254 1.0264 final length: 208, overlap: 24\n",
      "255 1.0269 final length: 222, overlap: 24\n",
      "256 1.0000 final length: 252, overlap: 24\n",
      "257 0.9806 final length: 204, overlap: 24\n",
      "258 0.9822 final length: 220, overlap: 24\n",
      "259 1.0169 final length: 206, overlap: 24\n",
      "260 0.9880 final length: 202, overlap: 24\n",
      "261 1.0146 final length: 204, overlap: 29\n",
      "262 1.0129 final length: 202, overlap: 24\n",
      "263 0.9933 final length: 200, overlap: 35\n",
      "264 1.0135 final length: 220, overlap: 24\n",
      "265 0.9752 final length: 200, overlap: 95\n",
      "266 0.9861 final length: 202, overlap: 24\n",
      "267 1.0012 final length: 206, overlap: 24\n",
      "268 1.0280 final length: 214, overlap: 24\n",
      "269 0.9950 final length: 200, overlap: 24\n",
      "270 1.0025 final length: 200, overlap: 63\n",
      "271 0.9604 final length: 200, overlap: 35\n",
      "272 0.9652 final length: 200, overlap: 39\n",
      "273 0.9751 final length: 218, overlap: 24\n",
      "274 1.0090 final length: 220, overlap: 24\n",
      "275 0.9934 final length: 200, overlap: 39\n",
      "276 0.9803 final length: 200, overlap: 71\n",
      "277 0.9753 final length: 208, overlap: 32\n",
      "278 1.0049 final length: 202, overlap: 24\n",
      "279 1.0233 final length: 214, overlap: 24\n",
      "280 0.9803 final length: 200, overlap: 51\n",
      "281 1.0138 final length: 204, overlap: 26\n",
      "282 1.0189 final length: 206, overlap: 24\n",
      "283 1.0136 final length: 218, overlap: 24\n"
     ]
    }
   ],
   "source": [
    "chunk_dict_list = []\n",
    "for k, fabl in enumerate(fabdict):\n",
    "    print(f\"{k:3d} \", end='', flush=True)\n",
    "    # loc_chunks = word_chunks(fabl['content'] , length=32, overlap=6)\n",
    "    loc_chunks = char_chunks_it(fabl['content'] , length=200, overlap=24, verbose=False)\n",
    "    if fabl['moral'] != '': # checked morals to be short, so add them as the last chunk\n",
    "        loc_chunks.append(fabl['moral'])\n",
    "    L = len(loc_chunks)\n",
    "    for i, chunk in enumerate(loc_chunks):\n",
    "        chunk_dict_list.append( { 'story_id': k, 'title': fabl['title'], 'authors':fabl['authors'], 'len': L, 'chunk_id': i, 'text': chunk} )"
   ]
  },
  {
   "cell_type": "code",
   "execution_count": 16,
   "id": "83204ff7",
   "metadata": {},
   "outputs": [],
   "source": [
    "with open(PATH+'Aesop_chunks.json','w') as file:\n",
    "    json.dump(chunk_dict_list, file, indent=1)"
   ]
  }
 ],
 "metadata": {
  "kernelspec": {
   "display_name": "base",
   "language": "python",
   "name": "python3"
  },
  "language_info": {
   "codemirror_mode": {
    "name": "ipython",
    "version": 3
   },
   "file_extension": ".py",
   "mimetype": "text/x-python",
   "name": "python",
   "nbconvert_exporter": "python",
   "pygments_lexer": "ipython3",
   "version": "3.12.7"
  }
 },
 "nbformat": 4,
 "nbformat_minor": 5
}
